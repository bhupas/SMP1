{
 "cells": [
  {
   "cell_type": "code",
   "execution_count": 1,
   "metadata": {},
   "outputs": [],
   "source": [
    "from scipy.stats import norm"
   ]
  },
  {
   "cell_type": "code",
   "execution_count": 12,
   "metadata": {},
   "outputs": [
    {
     "name": "stdout",
     "output_type": "stream",
     "text": [
      "0.8413447460685429\n",
      "0.9294595157790061\n",
      "0.5049850750938458\n"
     ]
    }
   ],
   "source": [
    "# Exercise 1\n",
    "mu = 3\n",
    "var = 9\n",
    "sd = var**(1/2)\n",
    "\n",
    "# a\n",
    "print(1-norm.cdf(0, mu, sd))\n",
    "\n",
    "# b\n",
    "print(norm.cdf(8, mu, sd) - norm.cdf(-3, mu, sd))\n",
    "\n",
    "# c\n",
    "print((1-norm.cdf(5, mu, sd))/(1-norm.cdf(3, mu, sd)))"
   ]
  },
  {
   "cell_type": "code",
   "execution_count": 16,
   "metadata": {},
   "outputs": [
    {
     "name": "stdout",
     "output_type": "stream",
     "text": [
      "0.8413447460685429\n",
      "0.9294595157790061\n",
      "0.5049850750938458\n"
     ]
    }
   ],
   "source": [
    "# Exercise 1\n",
    "\n",
    "# a\n",
    "print(1-norm.cdf(-1))\n",
    "\n",
    "# b\n",
    "print(norm.cdf(5/3) - norm.cdf(-2))\n",
    "\n",
    "# c\n",
    "print((1-norm.cdf(2/3))/(1-norm.cdf(0)))"
   ]
  },
  {
   "cell_type": "code",
   "execution_count": 26,
   "metadata": {},
   "outputs": [
    {
     "name": "stdout",
     "output_type": "stream",
     "text": [
      "0.6305586598182363\n",
      "0.47190340588677926\n"
     ]
    }
   ],
   "source": [
    "# Exercise 2\n",
    "mu = 3\n",
    "var = 9\n",
    "sd = var**(1/2)\n",
    "\n",
    "# a\n",
    "print(1-norm.cdf(2, mu, sd))\n",
    "\n",
    "# b\n",
    "print(norm.cdf(6, mu, sd) - norm.cdf(2, mu, sd))"
   ]
  },
  {
   "cell_type": "code",
   "execution_count": null,
   "metadata": {},
   "outputs": [],
   "source": []
  }
 ],
 "metadata": {
  "kernelspec": {
   "display_name": "base",
   "language": "python",
   "name": "python3"
  },
  "language_info": {
   "codemirror_mode": {
    "name": "ipython",
    "version": 3
   },
   "file_extension": ".py",
   "mimetype": "text/x-python",
   "name": "python",
   "nbconvert_exporter": "python",
   "pygments_lexer": "ipython3",
   "version": "3.11.4"
  }
 },
 "nbformat": 4,
 "nbformat_minor": 2
}
